{
 "cells": [
  {
   "cell_type": "code",
   "execution_count": 77,
   "metadata": {},
   "outputs": [],
   "source": [
    "import tensorflow as tf\n",
    "import numpy as np\n",
    "import pandas as pd\n",
    "from sklearn import model_selection\n",
    "from sklearn.preprocessing import LabelEncoder \n",
    "from nltk.corpus import stopwords #provides list of english stopwords\n",
    "stop = stopwords.words('english')\n",
    "import os,re,string"
   ]
  },
  {
   "cell_type": "code",
   "execution_count": 35,
   "metadata": {},
   "outputs": [],
   "source": [
    "# read file\n",
    "glo_dict =pd.read_excel('C:/Users/kapp/Desktop/web embeddings/glosbe_dictionary_words_sentences_extract.xlsx')"
   ]
  },
  {
   "cell_type": "code",
   "execution_count": 3,
   "metadata": {},
   "outputs": [
    {
     "data": {
      "text/html": [
       "<div>\n",
       "<style scoped>\n",
       "    .dataframe tbody tr th:only-of-type {\n",
       "        vertical-align: middle;\n",
       "    }\n",
       "\n",
       "    .dataframe tbody tr th {\n",
       "        vertical-align: top;\n",
       "    }\n",
       "\n",
       "    .dataframe thead th {\n",
       "        text-align: right;\n",
       "    }\n",
       "</style>\n",
       "<table border=\"1\" class=\"dataframe\">\n",
       "  <thead>\n",
       "    <tr style=\"text-align: right;\">\n",
       "      <th></th>\n",
       "      <th>english_word</th>\n",
       "      <th>twi_translation</th>\n",
       "      <th>some_english_phrases</th>\n",
       "      <th>some_twi_phrases</th>\n",
       "    </tr>\n",
       "  </thead>\n",
       "  <tbody>\n",
       "    <tr>\n",
       "      <th>count</th>\n",
       "      <td>4271</td>\n",
       "      <td>4271</td>\n",
       "      <td>4271</td>\n",
       "      <td>4271</td>\n",
       "    </tr>\n",
       "    <tr>\n",
       "      <th>unique</th>\n",
       "      <td>4265</td>\n",
       "      <td>137</td>\n",
       "      <td>3655</td>\n",
       "      <td>3668</td>\n",
       "    </tr>\n",
       "    <tr>\n",
       "      <th>top</th>\n",
       "      <td>church</td>\n",
       "      <td>N/F</td>\n",
       "      <td>|[]|</td>\n",
       "      <td>|[]|</td>\n",
       "    </tr>\n",
       "    <tr>\n",
       "      <th>freq</th>\n",
       "      <td>2</td>\n",
       "      <td>3411</td>\n",
       "      <td>17</td>\n",
       "      <td>17</td>\n",
       "    </tr>\n",
       "  </tbody>\n",
       "</table>\n",
       "</div>"
      ],
      "text/plain": [
       "       english_word twi_translation some_english_phrases some_twi_phrases\n",
       "count          4271            4271                 4271             4271\n",
       "unique         4265             137                 3655             3668\n",
       "top          church             N/F                 |[]|             |[]|\n",
       "freq              2            3411                   17               17"
      ]
     },
     "execution_count": 3,
     "metadata": {},
     "output_type": "execute_result"
    }
   ],
   "source": [
    "# checking the properties of file\n",
    "glo_dict.describe() "
   ]
  },
  {
   "cell_type": "code",
   "execution_count": 4,
   "metadata": {},
   "outputs": [
    {
     "data": {
      "text/html": [
       "<div>\n",
       "<style scoped>\n",
       "    .dataframe tbody tr th:only-of-type {\n",
       "        vertical-align: middle;\n",
       "    }\n",
       "\n",
       "    .dataframe tbody tr th {\n",
       "        vertical-align: top;\n",
       "    }\n",
       "\n",
       "    .dataframe thead th {\n",
       "        text-align: right;\n",
       "    }\n",
       "</style>\n",
       "<table border=\"1\" class=\"dataframe\">\n",
       "  <thead>\n",
       "    <tr style=\"text-align: right;\">\n",
       "      <th></th>\n",
       "      <th>english_word</th>\n",
       "      <th>twi_translation</th>\n",
       "      <th>some_english_phrases</th>\n",
       "      <th>some_twi_phrases</th>\n",
       "    </tr>\n",
       "  </thead>\n",
       "  <tbody>\n",
       "    <tr>\n",
       "      <th>0</th>\n",
       "      <td>frustration</td>\n",
       "      <td>N/F</td>\n",
       "      <td>|['Perhaps you too find yourself in a situatio...</td>\n",
       "      <td>|['Ebia na wo nso wowɔ tebea bi a ɛte sɛ nea ɛ...</td>\n",
       "    </tr>\n",
       "    <tr>\n",
       "      <th>1</th>\n",
       "      <td>experimental</td>\n",
       "      <td>N/F</td>\n",
       "      <td>|['Their leader’s opulence and the sexual expe...</td>\n",
       "      <td>|['Wɔn kannifo no ade dodowpɛ ne nna mu nkitah...</td>\n",
       "    </tr>\n",
       "    <tr>\n",
       "      <th>2</th>\n",
       "      <td>royal</td>\n",
       "      <td>N/F</td>\n",
       "      <td>|['Whether they were from the royal line or no...</td>\n",
       "      <td>|['Sɛ na wɔyɛ adehye anaa wɔnyɛ no, ntease wom...</td>\n",
       "    </tr>\n",
       "    <tr>\n",
       "      <th>3</th>\n",
       "      <td>riot</td>\n",
       "      <td>ahum</td>\n",
       "      <td>|['And he was in and out of jails for gang fig...</td>\n",
       "      <td>|['Na odii afiase akɔneaba wɔ basabasayɛfo ntɔ...</td>\n",
       "    </tr>\n",
       "    <tr>\n",
       "      <th>4</th>\n",
       "      <td>elsewhere</td>\n",
       "      <td>N/F</td>\n",
       "      <td>|['13 After hearing a talk at a circuit assemb...</td>\n",
       "      <td>|['13 Bere a onua bi ne ne nuabea tiee ɔkasa b...</td>\n",
       "    </tr>\n",
       "  </tbody>\n",
       "</table>\n",
       "</div>"
      ],
      "text/plain": [
       "   english_word twi_translation  \\\n",
       "0   frustration             N/F   \n",
       "1  experimental             N/F   \n",
       "2         royal             N/F   \n",
       "3          riot            ahum   \n",
       "4     elsewhere             N/F   \n",
       "\n",
       "                                some_english_phrases  \\\n",
       "0  |['Perhaps you too find yourself in a situatio...   \n",
       "1  |['Their leader’s opulence and the sexual expe...   \n",
       "2  |['Whether they were from the royal line or no...   \n",
       "3  |['And he was in and out of jails for gang fig...   \n",
       "4  |['13 After hearing a talk at a circuit assemb...   \n",
       "\n",
       "                                    some_twi_phrases  \n",
       "0  |['Ebia na wo nso wowɔ tebea bi a ɛte sɛ nea ɛ...  \n",
       "1  |['Wɔn kannifo no ade dodowpɛ ne nna mu nkitah...  \n",
       "2  |['Sɛ na wɔyɛ adehye anaa wɔnyɛ no, ntease wom...  \n",
       "3  |['Na odii afiase akɔneaba wɔ basabasayɛfo ntɔ...  \n",
       "4  |['13 Bere a onua bi ne ne nuabea tiee ɔkasa b...  "
      ]
     },
     "execution_count": 4,
     "metadata": {},
     "output_type": "execute_result"
    }
   ],
   "source": [
    "# file inspection\n",
    "glo_dict.head()"
   ]
  },
  {
   "cell_type": "code",
   "execution_count": 41,
   "metadata": {},
   "outputs": [
    {
     "data": {
      "text/html": [
       "<div>\n",
       "<style scoped>\n",
       "    .dataframe tbody tr th:only-of-type {\n",
       "        vertical-align: middle;\n",
       "    }\n",
       "\n",
       "    .dataframe tbody tr th {\n",
       "        vertical-align: top;\n",
       "    }\n",
       "\n",
       "    .dataframe thead th {\n",
       "        text-align: right;\n",
       "    }\n",
       "</style>\n",
       "<table border=\"1\" class=\"dataframe\">\n",
       "  <thead>\n",
       "    <tr style=\"text-align: right;\">\n",
       "      <th></th>\n",
       "      <th>some_english_phrases</th>\n",
       "      <th>some_twi_phrases</th>\n",
       "    </tr>\n",
       "  </thead>\n",
       "  <tbody>\n",
       "    <tr>\n",
       "      <th>0</th>\n",
       "      <td>|['Perhaps you too find yourself in a situatio...</td>\n",
       "      <td>|['Ebia na wo nso wowɔ tebea bi a ɛte sɛ nea ɛ...</td>\n",
       "    </tr>\n",
       "    <tr>\n",
       "      <th>1</th>\n",
       "      <td>|['Their leader’s opulence and the sexual expe...</td>\n",
       "      <td>|['Wɔn kannifo no ade dodowpɛ ne nna mu nkitah...</td>\n",
       "    </tr>\n",
       "    <tr>\n",
       "      <th>2</th>\n",
       "      <td>|['Whether they were from the royal line or no...</td>\n",
       "      <td>|['Sɛ na wɔyɛ adehye anaa wɔnyɛ no, ntease wom...</td>\n",
       "    </tr>\n",
       "    <tr>\n",
       "      <th>3</th>\n",
       "      <td>|['And he was in and out of jails for gang fig...</td>\n",
       "      <td>|['Na odii afiase akɔneaba wɔ basabasayɛfo ntɔ...</td>\n",
       "    </tr>\n",
       "    <tr>\n",
       "      <th>4</th>\n",
       "      <td>|['13 After hearing a talk at a circuit assemb...</td>\n",
       "      <td>|['13 Bere a onua bi ne ne nuabea tiee ɔkasa b...</td>\n",
       "    </tr>\n",
       "  </tbody>\n",
       "</table>\n",
       "</div>"
      ],
      "text/plain": [
       "                                some_english_phrases  \\\n",
       "0  |['Perhaps you too find yourself in a situatio...   \n",
       "1  |['Their leader’s opulence and the sexual expe...   \n",
       "2  |['Whether they were from the royal line or no...   \n",
       "3  |['And he was in and out of jails for gang fig...   \n",
       "4  |['13 After hearing a talk at a circuit assemb...   \n",
       "\n",
       "                                    some_twi_phrases  \n",
       "0  |['Ebia na wo nso wowɔ tebea bi a ɛte sɛ nea ɛ...  \n",
       "1  |['Wɔn kannifo no ade dodowpɛ ne nna mu nkitah...  \n",
       "2  |['Sɛ na wɔyɛ adehye anaa wɔnyɛ no, ntease wom...  \n",
       "3  |['Na odii afiase akɔneaba wɔ basabasayɛfo ntɔ...  \n",
       "4  |['13 Bere a onua bi ne ne nuabea tiee ɔkasa b...  "
      ]
     },
     "execution_count": 41,
     "metadata": {},
     "output_type": "execute_result"
    }
   ],
   "source": [
    "# working with two columns \n",
    "e2t= glo_dict[['some_english_phrases','some_twi_phrases']]\n",
    "e2t.head()"
   ]
  },
  {
   "cell_type": "code",
   "execution_count": 78,
   "metadata": {},
   "outputs": [
    {
     "name": "stderr",
     "output_type": "stream",
     "text": [
      "C:\\ProgramData\\Anaconda3\\lib\\site-packages\\ipykernel_launcher.py:4: SettingWithCopyWarning: \n",
      "A value is trying to be set on a copy of a slice from a DataFrame.\n",
      "Try using .loc[row_indexer,col_indexer] = value instead\n",
      "\n",
      "See the caveats in the documentation: http://pandas.pydata.org/pandas-docs/stable/user_guide/indexing.html#returning-a-view-versus-a-copy\n",
      "  after removing the cwd from sys.path.\n",
      "C:\\ProgramData\\Anaconda3\\lib\\site-packages\\ipykernel_launcher.py:6: SettingWithCopyWarning: \n",
      "A value is trying to be set on a copy of a slice from a DataFrame.\n",
      "Try using .loc[row_indexer,col_indexer] = value instead\n",
      "\n",
      "See the caveats in the documentation: http://pandas.pydata.org/pandas-docs/stable/user_guide/indexing.html#returning-a-view-versus-a-copy\n",
      "  \n",
      "C:\\ProgramData\\Anaconda3\\lib\\site-packages\\ipykernel_launcher.py:8: SettingWithCopyWarning: \n",
      "A value is trying to be set on a copy of a slice from a DataFrame.\n",
      "Try using .loc[row_indexer,col_indexer] = value instead\n",
      "\n",
      "See the caveats in the documentation: http://pandas.pydata.org/pandas-docs/stable/user_guide/indexing.html#returning-a-view-versus-a-copy\n",
      "  \n",
      "C:\\ProgramData\\Anaconda3\\lib\\site-packages\\ipykernel_launcher.py:11: SettingWithCopyWarning: \n",
      "A value is trying to be set on a copy of a slice from a DataFrame.\n",
      "Try using .loc[row_indexer,col_indexer] = value instead\n",
      "\n",
      "See the caveats in the documentation: http://pandas.pydata.org/pandas-docs/stable/user_guide/indexing.html#returning-a-view-versus-a-copy\n",
      "  # This is added back by InteractiveShellApp.init_path()\n",
      "C:\\ProgramData\\Anaconda3\\lib\\site-packages\\ipykernel_launcher.py:16: SettingWithCopyWarning: \n",
      "A value is trying to be set on a copy of a slice from a DataFrame.\n",
      "Try using .loc[row_indexer,col_indexer] = value instead\n",
      "\n",
      "See the caveats in the documentation: http://pandas.pydata.org/pandas-docs/stable/user_guide/indexing.html#returning-a-view-versus-a-copy\n",
      "  app.launch_new_instance()\n",
      "C:\\ProgramData\\Anaconda3\\lib\\site-packages\\ipykernel_launcher.py:17: SettingWithCopyWarning: \n",
      "A value is trying to be set on a copy of a slice from a DataFrame.\n",
      "Try using .loc[row_indexer,col_indexer] = value instead\n",
      "\n",
      "See the caveats in the documentation: http://pandas.pydata.org/pandas-docs/stable/user_guide/indexing.html#returning-a-view-versus-a-copy\n",
      "C:\\ProgramData\\Anaconda3\\lib\\site-packages\\ipykernel_launcher.py:18: SettingWithCopyWarning: \n",
      "A value is trying to be set on a copy of a slice from a DataFrame.\n",
      "Try using .loc[row_indexer,col_indexer] = value instead\n",
      "\n",
      "See the caveats in the documentation: http://pandas.pydata.org/pandas-docs/stable/user_guide/indexing.html#returning-a-view-versus-a-copy\n"
     ]
    }
   ],
   "source": [
    "# pre-processing dataframe\n",
    "\n",
    "# convert all characters to lower case\n",
    "e2t['some_english_phrases'] = e2t[\"some_english_phrases\"].str.lower()\n",
    "# replacements\n",
    "e2t['some_english_phrases'] = e2t['some_english_phrases'].str.replace('[^\\w \\s \\ d+ ]','')\n",
    "# filling missing cells for column 2\n",
    "e2t['some_english_phrases'] = e2t[\"some_english_phrases\"].fillna(\"fillna\")\n",
    "# remove stop words in English\n",
    "# e2t['some_english_phrases'] = re.sub(r'[0-9]+','',e2t)\n",
    "e2t['some_english_phrases'] = e2t['some_english_phrases'].apply(lambda x: ' '.join([word for word in x.split() if word not in (stop)]))\n",
    "\n",
    "\n",
    "# preprocessing for twi\n",
    "# Nltk doesnt understand the context of Akan so most preprocessing might not work\n",
    "\n",
    "e2t['some_twi_phrases'] = e2t[\"some_twi_phrases\"].str.lower()\n",
    "e2t['some_twi_phrases'] = e2t['some_twi_phrases'].str.replace('[^\\w\\s\\d+]','')\n",
    "e2t['some_twi_phrases'] = e2t[\"some_twi_phrases\"].fillna(\"fillna\")\n",
    "\n",
    "# removing stop words in twi\n",
    "# e2t['some_twi_phrases'] = e2t['some_twi_phrases'].apply(lambda x: ' '.join([word for word in x.split() if word not in (stop)]))\n"
   ]
  },
  {
   "cell_type": "code",
   "execution_count": 67,
   "metadata": {},
   "outputs": [],
   "source": [
    "# saving the preprocessed dataset\n",
    "# unfortuately twi context is not understood by machine\n",
    "e2t.to_csv(\"cleanede2t.csv\")"
   ]
  },
  {
   "cell_type": "code",
   "execution_count": 79,
   "metadata": {},
   "outputs": [
    {
     "data": {
      "text/html": [
       "<div>\n",
       "<style scoped>\n",
       "    .dataframe tbody tr th:only-of-type {\n",
       "        vertical-align: middle;\n",
       "    }\n",
       "\n",
       "    .dataframe tbody tr th {\n",
       "        vertical-align: top;\n",
       "    }\n",
       "\n",
       "    .dataframe thead th {\n",
       "        text-align: right;\n",
       "    }\n",
       "</style>\n",
       "<table border=\"1\" class=\"dataframe\">\n",
       "  <thead>\n",
       "    <tr style=\"text-align: right;\">\n",
       "      <th></th>\n",
       "      <th>some_english_phrases</th>\n",
       "      <th>some_twi_phrases</th>\n",
       "    </tr>\n",
       "  </thead>\n",
       "  <tbody>\n",
       "    <tr>\n",
       "      <th>0</th>\n",
       "      <td>perhaps find situation seems frustrating even ...</td>\n",
       "      <td>ebia na wo nso wowɔ tebea bi a ɛte sɛ nea ɛyɛ ...</td>\n",
       "    </tr>\n",
       "    <tr>\n",
       "      <th>1</th>\n",
       "      <td>leaders opulence sexual experimentation practi...</td>\n",
       "      <td>wɔn kannifo no ade dodowpɛ ne nna mu nkitahodi...</td>\n",
       "    </tr>\n",
       "    <tr>\n",
       "      <th>2</th>\n",
       "      <td>whether royal line reasonable think least fami...</td>\n",
       "      <td>sɛ na wɔyɛ adehye anaa wɔnyɛ no ntease wom sɛ ...</td>\n",
       "    </tr>\n",
       "    <tr>\n",
       "      <th>3</th>\n",
       "      <td>jails gang fighting rioting riot police soldie...</td>\n",
       "      <td>na odii afiase akɔneaba wɔ basabasayɛfo ntɔkwa...</td>\n",
       "    </tr>\n",
       "    <tr>\n",
       "      <th>4</th>\n",
       "      <td>hearing talk circuit assembly brother fleshly ...</td>\n",
       "      <td>13 bere a onua bi ne ne nuabea tiee ɔkasa bi w...</td>\n",
       "    </tr>\n",
       "    <tr>\n",
       "      <th>5</th>\n",
       "      <td>even significant churchgoers southern hemisphe...</td>\n",
       "      <td>nea ɛda adi kɛse no asɔrekɔfo a wɔwɔ asase ana...</td>\n",
       "    </tr>\n",
       "    <tr>\n",
       "      <th>6</th>\n",
       "      <td>need love protection get children learn street...</td>\n",
       "      <td>wɔ bere a mmofra hia ɔdɔ ne ahobammɔ a wɔn nsa...</td>\n",
       "    </tr>\n",
       "    <tr>\n",
       "      <th>7</th>\n",
       "      <td></td>\n",
       "      <td></td>\n",
       "    </tr>\n",
       "    <tr>\n",
       "      <th>8</th>\n",
       "      <td></td>\n",
       "      <td></td>\n",
       "    </tr>\n",
       "    <tr>\n",
       "      <th>9</th>\n",
       "      <td>get rid items connected demonism make magic de...</td>\n",
       "      <td>adaemone ho biribiara a wowɔ no sɛe no nyankon...</td>\n",
       "    </tr>\n",
       "    <tr>\n",
       "      <th>10</th>\n",
       "      <td>progress medicine greater availability health ...</td>\n",
       "      <td>nkɔso a aba wɔ nnuruyɛ ne nneɛma a wɔde bɔ akw...</td>\n",
       "    </tr>\n",
       "    <tr>\n",
       "      <th>11</th>\n",
       "      <td></td>\n",
       "      <td></td>\n",
       "    </tr>\n",
       "    <tr>\n",
       "      <th>12</th>\n",
       "      <td>makes evaluation individuals gently draws hear...</td>\n",
       "      <td>ɔyɛ ankorankoro mu nhwehwɛmu na ɔtwe wɔn a wɔw...</td>\n",
       "    </tr>\n",
       "    <tr>\n",
       "      <th>13</th>\n",
       "      <td>thessalonians perhaps depressed souls find cou...</td>\n",
       "      <td>1 tesalonikafo 514 ebia wɔn a wɔn koma atu no ...</td>\n",
       "    </tr>\n",
       "    <tr>\n",
       "      <th>14</th>\n",
       "      <td>idea god chooses beforehand trials face implie...</td>\n",
       "      <td>sɛ obi ka sɛ yehowa di kan paw sɔhwɛ a yebehyi...</td>\n",
       "    </tr>\n",
       "    <tr>\n",
       "      <th>15</th>\n",
       "      <td>behavior changed soon connected internet suspe...</td>\n",
       "      <td>bere a yenyaa intanɛt pɛ na ne suban sesae na...</td>\n",
       "    </tr>\n",
       "    <tr>\n",
       "      <th>16</th>\n",
       "      <td>ironlink chains steelwire cables invented beca...</td>\n",
       "      <td>bere a wɔyɛɛ dade nkɔnsɔnkɔnsɔn ne dade nhama ...</td>\n",
       "    </tr>\n",
       "    <tr>\n",
       "      <th>17</th>\n",
       "      <td>food water shelter medical care emotional spir...</td>\n",
       "      <td>wɔma anuanom nsa ka nnuan nsu dabere ayaresa a...</td>\n",
       "    </tr>\n",
       "    <tr>\n",
       "      <th>18</th>\n",
       "      <td>linked second commandment states must make car...</td>\n",
       "      <td>ɔde toaa mmara asɛm a etia abien no so nea ɛka...</td>\n",
       "    </tr>\n",
       "    <tr>\n",
       "      <th>19</th>\n",
       "      <td>logically extent christendoms missionaries adv...</td>\n",
       "      <td>ɛnde ntease wom sɛ bere tenten a kristoman asɛ...</td>\n",
       "    </tr>\n",
       "    <tr>\n",
       "      <th>20</th>\n",
       "      <td>proverbs knox says fools make light guilt need...</td>\n",
       "      <td>mmebusɛm 149 knox ka sɛ agyimfo bu bɔne a ehia...</td>\n",
       "    </tr>\n",
       "    <tr>\n",
       "      <th>21</th>\n",
       "      <td>also avoid simultaneous coverage area two publ...</td>\n",
       "      <td>wei nso bɛboa na adawurubɔfo mmienu anaa nea ɛ...</td>\n",
       "    </tr>\n",
       "    <tr>\n",
       "      <th>22</th>\n",
       "      <td>early members bethel family african americans ...</td>\n",
       "      <td>wɔ 1960 mfiase hɔ no na betel abusua no mufo b...</td>\n",
       "    </tr>\n",
       "    <tr>\n",
       "      <th>23</th>\n",
       "      <td>besides regular contact trade frequently asked...</td>\n",
       "      <td>sɛ yɛde gua a wɔne wɔn di no to nkyɛn a wɔtaa ...</td>\n",
       "    </tr>\n",
       "    <tr>\n",
       "      <th>24</th>\n",
       "      <td>married said since intercourse man consumption...</td>\n",
       "      <td>esiane sɛ na ɔnwaree nti ɔkae sɛ eyi bɛyɛ dɛn ...</td>\n",
       "    </tr>\n",
       "    <tr>\n",
       "      <th>25</th>\n",
       "      <td>time magazine told earlier situation monks bra...</td>\n",
       "      <td>wɔ afe 2006 mu no time nsɛmma nhoma no kaa teb...</td>\n",
       "    </tr>\n",
       "    <tr>\n",
       "      <th>26</th>\n",
       "      <td>enthusiasm tends rub companions buy eyesalve r...</td>\n",
       "      <td>sɛ wɔde sika a wɔatwa no twitwi ɔbo a ɛso yɛ w...</td>\n",
       "    </tr>\n",
       "    <tr>\n",
       "      <th>27</th>\n",
       "      <td>would wise meditate one false step could lead ...</td>\n",
       "      <td>nyansa wom sɛ wubedwinnwen sɛnea sɛ wudi mfoms...</td>\n",
       "    </tr>\n",
       "    <tr>\n",
       "      <th>28</th>\n",
       "      <td>brewers dictionary phrase fable years numbers ...</td>\n",
       "      <td>brewers dictionary of phrase and fable nhoma t...</td>\n",
       "    </tr>\n",
       "    <tr>\n",
       "      <th>29</th>\n",
       "      <td>may find temporary relief forming strengthenin...</td>\n",
       "      <td>ebi ne sɛ wubesua ade foforo bi yɛ wobɛyɛ nneɛ...</td>\n",
       "    </tr>\n",
       "    <tr>\n",
       "      <th>30</th>\n",
       "      <td>give others help also enjoy measure happiness ...</td>\n",
       "      <td>sɛ yetu yɛn ho ma afoforo a ɛnyɛ boa na yɛboa ...</td>\n",
       "    </tr>\n",
       "    <tr>\n",
       "      <th>31</th>\n",
       "      <td>large extent taken apart scraped remove writin...</td>\n",
       "      <td>wobuebuee mu popaa nkyerɛwee no nyinaa ɔpɔnkɔ ...</td>\n",
       "    </tr>\n",
       "    <tr>\n",
       "      <th>32</th>\n",
       "      <td>time person could drift away even draw away li...</td>\n",
       "      <td>bere bi akyi no saa nipa no tumi wae anaasɛ ɔt...</td>\n",
       "    </tr>\n",
       "    <tr>\n",
       "      <th>33</th>\n",
       "      <td>coincidentally evening accused responsible pli...</td>\n",
       "      <td>ɔkasa ne nawerɛfiri ɛda a etwaam anwummere no ...</td>\n",
       "    </tr>\n",
       "    <tr>\n",
       "      <th>34</th>\n",
       "      <td>appearances israels scheme seek help egypt str...</td>\n",
       "      <td>nnipa ani so no nhyehyɛe a israel yɛ sɛ wɔbɛhw...</td>\n",
       "    </tr>\n",
       "    <tr>\n",
       "      <th>35</th>\n",
       "      <td>cruelly sold joseph slavery tricked father bel...</td>\n",
       "      <td>wɔtɔn yosef yayaayaw sɛ akoa na wɔdaadaa wɔn p...</td>\n",
       "    </tr>\n",
       "    <tr>\n",
       "      <th>36</th>\n",
       "      <td>still helpful hear others decided matters rese...</td>\n",
       "      <td>nanso mfaso da so wɔ so sɛ yebetie sɛnea afofo...</td>\n",
       "    </tr>\n",
       "    <tr>\n",
       "      <th>37</th>\n",
       "      <td>give precious gift chunks time give loved ones...</td>\n",
       "      <td>yɛde saa akyɛde a ɛsom bo no ma bere a yedi be...</td>\n",
       "    </tr>\n",
       "    <tr>\n",
       "      <th>38</th>\n",
       "      <td>leopard pelts elephant ivory tiger bones rhino...</td>\n",
       "      <td>otwi nhoma asonse ɔsebɔ dompe bɛnkoro mmɛn ne ...</td>\n",
       "    </tr>\n",
       "    <tr>\n",
       "      <th>39</th>\n",
       "      <td>although deceptive talker makes voice gracious...</td>\n",
       "      <td>bible bɔ kɔkɔ sɛ obi a nano yɛ dɛ ka adɔkɔdɔkɔ...</td>\n",
       "    </tr>\n",
       "    <tr>\n",
       "      <th>40</th>\n",
       "      <td>jeremiah yes jehovah examining hidden deepest ...</td>\n",
       "      <td>yeremia 1120 yiw yehowa rehwehwɛ nea ahintaw w...</td>\n",
       "    </tr>\n",
       "    <tr>\n",
       "      <th>41</th>\n",
       "      <td>notes report ireland state world picture four ...</td>\n",
       "      <td>saa na wiase tebea ho amanneɛbɔ a efi ireland ...</td>\n",
       "    </tr>\n",
       "    <tr>\n",
       "      <th>42</th>\n",
       "      <td>purity chasteness acting harmony accurate bibl...</td>\n",
       "      <td>ɛdenam ahotew anaa abrabɔ kronn so ne bɔ a yɛb...</td>\n",
       "    </tr>\n",
       "    <tr>\n",
       "      <th>43</th>\n",
       "      <td>professional snowboarder sums saying dont get ...</td>\n",
       "      <td>ɔbarima bi a wagye din wɔ asukyenee so agodie ...</td>\n",
       "    </tr>\n",
       "    <tr>\n",
       "      <th>44</th>\n",
       "      <td>adversities suffering cause individual lose me...</td>\n",
       "      <td>gogoho asiane ne amanehunu betumi ama obi adwe...</td>\n",
       "    </tr>\n",
       "    <tr>\n",
       "      <th>45</th>\n",
       "      <td>spite doctors suggestions limit intake fat eng...</td>\n",
       "      <td>nanso ɛmfa ho sɛ nnuruyɛfo hyɛ nyansa sɛ wɔnte...</td>\n",
       "    </tr>\n",
       "    <tr>\n",
       "      <th>46</th>\n",
       "      <td>besides practical concerns danger losing favor...</td>\n",
       "      <td>saa ahiasɛm yi akyi no asiane wom sɛ wobɛhwere...</td>\n",
       "    </tr>\n",
       "    <tr>\n",
       "      <th>47</th>\n",
       "      <td>small courtroom filled reporters academics oth...</td>\n",
       "      <td>ná nsɛm ho amanneɛbɔfo animdefo ne afoforo a w...</td>\n",
       "    </tr>\n",
       "    <tr>\n",
       "      <th>48</th>\n",
       "      <td>release loyal jews exile made possible fall ba...</td>\n",
       "      <td>25 babilon asehwe a ɛmaa yudafo anokwafo tumi ...</td>\n",
       "    </tr>\n",
       "    <tr>\n",
       "      <th>49</th>\n",
       "      <td>electricity bedding water taps toilets careful...</td>\n",
       "      <td>anyinam nkanea anaa mpa nni hɔ na nsu a wobu a...</td>\n",
       "    </tr>\n",
       "  </tbody>\n",
       "</table>\n",
       "</div>"
      ],
      "text/plain": [
       "                                 some_english_phrases  \\\n",
       "0   perhaps find situation seems frustrating even ...   \n",
       "1   leaders opulence sexual experimentation practi...   \n",
       "2   whether royal line reasonable think least fami...   \n",
       "3   jails gang fighting rioting riot police soldie...   \n",
       "4   hearing talk circuit assembly brother fleshly ...   \n",
       "5   even significant churchgoers southern hemisphe...   \n",
       "6   need love protection get children learn street...   \n",
       "7                                                       \n",
       "8                                                       \n",
       "9   get rid items connected demonism make magic de...   \n",
       "10  progress medicine greater availability health ...   \n",
       "11                                                      \n",
       "12  makes evaluation individuals gently draws hear...   \n",
       "13  thessalonians perhaps depressed souls find cou...   \n",
       "14  idea god chooses beforehand trials face implie...   \n",
       "15  behavior changed soon connected internet suspe...   \n",
       "16  ironlink chains steelwire cables invented beca...   \n",
       "17  food water shelter medical care emotional spir...   \n",
       "18  linked second commandment states must make car...   \n",
       "19  logically extent christendoms missionaries adv...   \n",
       "20  proverbs knox says fools make light guilt need...   \n",
       "21  also avoid simultaneous coverage area two publ...   \n",
       "22  early members bethel family african americans ...   \n",
       "23  besides regular contact trade frequently asked...   \n",
       "24  married said since intercourse man consumption...   \n",
       "25  time magazine told earlier situation monks bra...   \n",
       "26  enthusiasm tends rub companions buy eyesalve r...   \n",
       "27  would wise meditate one false step could lead ...   \n",
       "28  brewers dictionary phrase fable years numbers ...   \n",
       "29  may find temporary relief forming strengthenin...   \n",
       "30  give others help also enjoy measure happiness ...   \n",
       "31  large extent taken apart scraped remove writin...   \n",
       "32  time person could drift away even draw away li...   \n",
       "33  coincidentally evening accused responsible pli...   \n",
       "34  appearances israels scheme seek help egypt str...   \n",
       "35  cruelly sold joseph slavery tricked father bel...   \n",
       "36  still helpful hear others decided matters rese...   \n",
       "37  give precious gift chunks time give loved ones...   \n",
       "38  leopard pelts elephant ivory tiger bones rhino...   \n",
       "39  although deceptive talker makes voice gracious...   \n",
       "40  jeremiah yes jehovah examining hidden deepest ...   \n",
       "41  notes report ireland state world picture four ...   \n",
       "42  purity chasteness acting harmony accurate bibl...   \n",
       "43  professional snowboarder sums saying dont get ...   \n",
       "44  adversities suffering cause individual lose me...   \n",
       "45  spite doctors suggestions limit intake fat eng...   \n",
       "46  besides practical concerns danger losing favor...   \n",
       "47  small courtroom filled reporters academics oth...   \n",
       "48  release loyal jews exile made possible fall ba...   \n",
       "49  electricity bedding water taps toilets careful...   \n",
       "\n",
       "                                     some_twi_phrases  \n",
       "0   ebia na wo nso wowɔ tebea bi a ɛte sɛ nea ɛyɛ ...  \n",
       "1   wɔn kannifo no ade dodowpɛ ne nna mu nkitahodi...  \n",
       "2   sɛ na wɔyɛ adehye anaa wɔnyɛ no ntease wom sɛ ...  \n",
       "3   na odii afiase akɔneaba wɔ basabasayɛfo ntɔkwa...  \n",
       "4   13 bere a onua bi ne ne nuabea tiee ɔkasa bi w...  \n",
       "5   nea ɛda adi kɛse no asɔrekɔfo a wɔwɔ asase ana...  \n",
       "6   wɔ bere a mmofra hia ɔdɔ ne ahobammɔ a wɔn nsa...  \n",
       "7                                                      \n",
       "8                                                      \n",
       "9   adaemone ho biribiara a wowɔ no sɛe no nyankon...  \n",
       "10  nkɔso a aba wɔ nnuruyɛ ne nneɛma a wɔde bɔ akw...  \n",
       "11                                                     \n",
       "12  ɔyɛ ankorankoro mu nhwehwɛmu na ɔtwe wɔn a wɔw...  \n",
       "13  1 tesalonikafo 514 ebia wɔn a wɔn koma atu no ...  \n",
       "14  sɛ obi ka sɛ yehowa di kan paw sɔhwɛ a yebehyi...  \n",
       "15   bere a yenyaa intanɛt pɛ na ne suban sesae na...  \n",
       "16  bere a wɔyɛɛ dade nkɔnsɔnkɔnsɔn ne dade nhama ...  \n",
       "17  wɔma anuanom nsa ka nnuan nsu dabere ayaresa a...  \n",
       "18  ɔde toaa mmara asɛm a etia abien no so nea ɛka...  \n",
       "19  ɛnde ntease wom sɛ bere tenten a kristoman asɛ...  \n",
       "20  mmebusɛm 149 knox ka sɛ agyimfo bu bɔne a ehia...  \n",
       "21  wei nso bɛboa na adawurubɔfo mmienu anaa nea ɛ...  \n",
       "22  wɔ 1960 mfiase hɔ no na betel abusua no mufo b...  \n",
       "23  sɛ yɛde gua a wɔne wɔn di no to nkyɛn a wɔtaa ...  \n",
       "24  esiane sɛ na ɔnwaree nti ɔkae sɛ eyi bɛyɛ dɛn ...  \n",
       "25  wɔ afe 2006 mu no time nsɛmma nhoma no kaa teb...  \n",
       "26  sɛ wɔde sika a wɔatwa no twitwi ɔbo a ɛso yɛ w...  \n",
       "27  nyansa wom sɛ wubedwinnwen sɛnea sɛ wudi mfoms...  \n",
       "28  brewers dictionary of phrase and fable nhoma t...  \n",
       "29  ebi ne sɛ wubesua ade foforo bi yɛ wobɛyɛ nneɛ...  \n",
       "30  sɛ yetu yɛn ho ma afoforo a ɛnyɛ boa na yɛboa ...  \n",
       "31  wobuebuee mu popaa nkyerɛwee no nyinaa ɔpɔnkɔ ...  \n",
       "32  bere bi akyi no saa nipa no tumi wae anaasɛ ɔt...  \n",
       "33  ɔkasa ne nawerɛfiri ɛda a etwaam anwummere no ...  \n",
       "34  nnipa ani so no nhyehyɛe a israel yɛ sɛ wɔbɛhw...  \n",
       "35  wɔtɔn yosef yayaayaw sɛ akoa na wɔdaadaa wɔn p...  \n",
       "36  nanso mfaso da so wɔ so sɛ yebetie sɛnea afofo...  \n",
       "37  yɛde saa akyɛde a ɛsom bo no ma bere a yedi be...  \n",
       "38  otwi nhoma asonse ɔsebɔ dompe bɛnkoro mmɛn ne ...  \n",
       "39  bible bɔ kɔkɔ sɛ obi a nano yɛ dɛ ka adɔkɔdɔkɔ...  \n",
       "40  yeremia 1120 yiw yehowa rehwehwɛ nea ahintaw w...  \n",
       "41  saa na wiase tebea ho amanneɛbɔ a efi ireland ...  \n",
       "42  ɛdenam ahotew anaa abrabɔ kronn so ne bɔ a yɛb...  \n",
       "43  ɔbarima bi a wagye din wɔ asukyenee so agodie ...  \n",
       "44  gogoho asiane ne amanehunu betumi ama obi adwe...  \n",
       "45  nanso ɛmfa ho sɛ nnuruyɛfo hyɛ nyansa sɛ wɔnte...  \n",
       "46  saa ahiasɛm yi akyi no asiane wom sɛ wobɛhwere...  \n",
       "47  ná nsɛm ho amanneɛbɔfo animdefo ne afoforo a w...  \n",
       "48  25 babilon asehwe a ɛmaa yudafo anokwafo tumi ...  \n",
       "49  anyinam nkanea anaa mpa nni hɔ na nsu a wobu a...  "
      ]
     },
     "execution_count": 79,
     "metadata": {},
     "output_type": "execute_result"
    }
   ],
   "source": [
    "# inspection\n",
    "e2t.head(50)"
   ]
  },
  {
   "cell_type": "code",
   "execution_count": null,
   "metadata": {},
   "outputs": [],
   "source": [
    "#Removing stop words for twi before proceding ,will add the stop words txt to the path for nltk stopword method and update the words for akan"
   ]
  },
  {
   "cell_type": "code",
   "execution_count": 80,
   "metadata": {},
   "outputs": [
    {
     "data": {
      "text/html": [
       "<div>\n",
       "<style scoped>\n",
       "    .dataframe tbody tr th:only-of-type {\n",
       "        vertical-align: middle;\n",
       "    }\n",
       "\n",
       "    .dataframe tbody tr th {\n",
       "        vertical-align: top;\n",
       "    }\n",
       "\n",
       "    .dataframe thead th {\n",
       "        text-align: right;\n",
       "    }\n",
       "</style>\n",
       "<table border=\"1\" class=\"dataframe\">\n",
       "  <thead>\n",
       "    <tr style=\"text-align: right;\">\n",
       "      <th></th>\n",
       "      <th>some_english_phrases</th>\n",
       "      <th>some_twi_phrases</th>\n",
       "    </tr>\n",
       "  </thead>\n",
       "  <tbody>\n",
       "    <tr>\n",
       "      <th>count</th>\n",
       "      <td>4271</td>\n",
       "      <td>4271</td>\n",
       "    </tr>\n",
       "    <tr>\n",
       "      <th>unique</th>\n",
       "      <td>3655</td>\n",
       "      <td>3668</td>\n",
       "    </tr>\n",
       "    <tr>\n",
       "      <th>top</th>\n",
       "      <td></td>\n",
       "      <td></td>\n",
       "    </tr>\n",
       "    <tr>\n",
       "      <th>freq</th>\n",
       "      <td>17</td>\n",
       "      <td>17</td>\n",
       "    </tr>\n",
       "  </tbody>\n",
       "</table>\n",
       "</div>"
      ],
      "text/plain": [
       "       some_english_phrases some_twi_phrases\n",
       "count                  4271             4271\n",
       "unique                 3655             3668\n",
       "top                                         \n",
       "freq                     17               17"
      ]
     },
     "execution_count": 80,
     "metadata": {},
     "output_type": "execute_result"
    }
   ],
   "source": [
    "# checking out the propersties of dataset\n",
    "e2t.describe()"
   ]
  },
  {
   "cell_type": "code",
   "execution_count": 81,
   "metadata": {},
   "outputs": [
    {
     "data": {
      "text/plain": [
       "3668"
      ]
     },
     "execution_count": 81,
     "metadata": {},
     "output_type": "execute_result"
    }
   ],
   "source": [
    "# checking the datatset for unique objects,unfortunately we need to get rid of stop words\n",
    "classes = len(np.unique(e2t['some_twi_phrases'])) #we print the length, not a big one but sufficient\n",
    "classes"
   ]
  },
  {
   "cell_type": "code",
   "execution_count": 11,
   "metadata": {},
   "outputs": [
    {
     "data": {
      "text/plain": [
       "array(['',\n",
       "       '  wɔ sukuu no na dimitria nyɛ mmeamudua sɛnkyerɛnne no nhwɛso a ɛtete saa pii wɔ hɔ sɛnkyerɛnne bi a ɛbɔ wo kɔkɔ sɛ anyinam ahoɔden tumi kɔ soro radio so amanneɛbɔ bi a ɛkyerɛ sɛ ahum rebetu wɔ mo mpɔtam hɔ wote dede bi a ano yɛ den fi wo kar mu bere a wonam ɔkwan a ɛso akyere so no afei ɔde kaa ho sɛ wode fa wo nsa hyɛ krataa yi ase kɛkɛ sɛnkyerɛnne no afã ahorow a ɛrenya mmamu no ma ɛda adi pefee sɛ ahohiahia kɛse no abɛn masoretfo akuw a na wɔwɔ babilon ne israel yeyɛɛ sɛnkyerɛnne ahorow de hyehyɛɛ anom nkyerɛwde ho de kyerɛɛ ɔkwan a wɔfa so bobɔ nsɛmfua bi din ne ɔkwampa a wɔfa so bobɔ ɛnne nkyerɛwde bere bɛn na eyinom bɛba na dɛn na ɛbɛyɛ wo ba a woaba ne nneɛma nhyehyɛe no awiei ho sɛnkyerɛnnemateo 243 new world translation bere a wɔyɛɛ nhyehyɛe maa mumfo wɔ ɔmantam nhyiam ase no na meka wɔn a wonyaa kwan kyerɛɛ ase kɔɔ mum kasa mu no ho 9 filipo yɛɛ nsɛnkyerɛnne pii wɔ samaria nsɛmfua asekyerɛ nhoma yi ma nhwɛso pii a ɛwɔ mmuae a yesu de maa asomafo no wɔ asɛm a wobisaa no wɔ ne ba ho sɛnkyerɛnne ho no ho kyerɛwtohɔ abiɛsa no mu  akyiri yi a wogyaa wɔn no wobehuu sɛ ɛyɛ mfomso sɛ wɔde wɔn nsa hyɛɛ krataa no ase ɛmfa ho adwene biara a wɔde yɛɛ saa no nsɛmmisa a efi akenkanfo hɔ sɛ aban mma kwan sɛ ahɔho a wonni tumi krataa a wɔde tena ɔman no mu ware wɔ hɔ a asafo no betumi ama wɔayɛ mpaemuka de wɔn nsa ahyɛ krataa bi ase de akyerɛ sɛ wobedi wɔn ho nokware na wɔabɔ asu anaa bere a nkurɔfo no kaa sɛ yesu mma wɔn sɛnkyerɛnne a ɛfiri soro no ɔkaa wɔn anim sɛnea bere bi nso ɔkaa galileafo anim no afei asɛm no de nkaesɛm yi ma sɛ nhyehyɛe a wɔne ogumadifo bi yɛ no nkyerɛ sɛ obenya kwan wɔ kuw no mu 3 a nsɛm a ebesisi bɛn na yesu ka siei wɔ ne nkɔmhyɛ a ɛfa ne ba a ɔbɛba ho nsɛnkyerɛnne no mu bere a wɔfrɛɛ asɛm no dwoda july 19 no david day de krataa a adriana onni ahoɔden a ɔde bɛba asennibea hɔkyerɛw de ne nsa hyɛɛ ase a ɛkyerɛ ɔpɛ a nankasa wɔ sɛ wɔsa ne kokoram no a wɔmfa mogya anaa aduru a mogya wom biara nni dwuma no bɛkyerɛe wɔde ahyɛ yɛn nsa sɛ yennyigye sika dedaw no nyinaa mfi mmusua ahorow hɔ na yɛmma wɔn foforo a nananmusifo no din hyɛ so    bere a mamfa me nsa anhyɛ ase no ohunahunaa me sɛ wɔbɛsan de me akɔ são nicolau na ɔka kyerɛɛ me sɛ sɛ wɔde me kɔ hɔ a wɔrennyae me bio bere a na yuda rebeyi yesu ama no na wadi kan ama nnipadɔm no sɛnkyerɛnne bi dedaw sɛ obefew yesu ano na ama wɔahu nomarko 1444 45 nsɛnkyerɛnne a ɔhaw yi de ba no bi ne nkorɔm a wotu anaa home a wontumi nhome yiye wɔ nna mu wɔn ti a ɛyɛ wɔn yaw adekyee ne si a wɔde adwene si ɔhaw ahorow so ne afei wɔn ani a ɛkɔ so kum bere a ade akye no mum kasa mu asafo ahorow 15 na ɛwɔ korea na emu adawurubɔfo yɛ 543 nanso nnipa 1174 na wɔkɔɔ nhyiam no na wɔbɔɔ nnipa 21 asu sɛ awofo wɔ nsɛnnennen wɔ wɔn aware mu ansa na abofra no rebenya adwenemhaw a wɔn ba no nneyɛe a asesa no ma asɛm no sɛe koraa nea ɛto so abien kristoni bi betumi ahu sɛ sɛnkyerɛnne no fã bi resisi wɔ baabi nanso sɛ ɛnyɛ baabi a ɔte no na ɛresisi a ebia ɔbɛte nka sɛ ɛmfa no ho sɛ nhwɛso no sɛ yɛrehyia ɔhaw bi a ebia ebinom befi ase asusuw sɛ wɔayɛ biribi a ɛmfata wɔ honhom fam na wɔbɛka sɛ wɔn ho a ɛkyere wɔn no kyerɛ sɛ onyankopɔn mpene wɔn so nhomawa no a wɔde agu dvd so wɔ mum kasa mu no ma wogyee obi nkwa matt maame dii kan huu nsɛnkyerɛnne a na ɛkyerɛ sɛ biribi haw wɔn babarima no nanso wosusuwii sɛ du a na wadu ne babunbere mu nti na ama ne su asakra na ɛrenkyɛ ebetwam',\n",
       "       ' 1950 france ne germany fii ase kaa wɔn ho boom sɛnea ɛbɛyɛ a wɔbɛbɔ gyabiriw ne nnade nnwuma ho ban so wobɛtra hɔ kɛkɛ ahwɛ ma ogya no adum ma biriw a adɔ kɔɔ no adan nsõ wɔmaa abibifo no nyinaa kɔtraa keteke dan a na ɛtoa faako a gyabirew dɛw wɔ hɔ pɛɛ so mu nhoma koro no ara ka sɛ sɛ obi bɛte tumi kɛse a owia hann wɔ ase a nea obetumi ayɛ ara ne sɛ obesusuw ho ahu sɛ tumi a ɛwɔ mframa nsu a wɔagye ho ban nsubɔnten ne tumi a ɛwɔ nneɛma a wɔde sɔ gya te sɛ nnua gyabiriw ne ngo mu no fi owia mu tumi a ɛwɔ okyinnsoromma ketewaa asase a ɔkwan a ɛda ɛne owia ntam no yɛ kwansin ɔpepem 93 no hann bi hyerɛn wɔ beae a wotu biriw na wɔma anuanom no bi kɔyɛ adwuma wɔ baabi a wotu biriw na ɛhɔ na na wohyia adansefo a wofi kurom a wɔde nsɛmma nhoma no ma wɔn wɔn mu biako ne onuawa bi a daa na ofi rhondda valley bɛyɛ nadwuma wɔ beae a wotu biriw no na ɔyɛ nasɛnka adwuma ná gyabiriw ayɛ nanim nyinaa na na polisifo no bu no sɛ ɔyɛ sraani bi a ɔrebɛtow ahyɛ kurow no so 16 hwɛ me na mabɔ ɔtomfoɔ a ɔfiti egya bidie mu na ɔyi nadwuma ho adwendidadeɛ pue na me na mabɔ ɔsɛefoɔ sɛ ɔnsɛe adeɛ ɔsomafo paulo kyerɛwee sɛ sɛ ɔkɔm de wo tamfo a ma no biribi nni sɛ osukɔm de no a ma no biribi nnom na wonam saayɛ so bɛboaboa nnyansramma ano agu natifi ɔkwan bɛn so na yɛboaboa nnyasramma ano gu obi a ɔtan yɛn atifi wɔde yɛn a na yɛn afie wɔ soviet asase so saa bere no kɔɔ nneduaban mu wɔ liévin wɔ france kusuu fam sɛ yɛnkɔyɛ adwuma wɔ baabi a wotu biriw sɛnea ɛte biara no yehowa atemmu a ɛyɛ hu a wɔde akase nsramma yɛ ho sɛnkyerɛnne no bɛba wɔn so nasifo no de yɛn a na yɛyɛ nneduafo bɛyɛ 100 kosi 150 guu adaka a wɔde biriw gu mu a esi keteke so mu wɔamma yɛn aduan ne nsu na yetwaa kwan faa osu a ano yɛ nwini a na ɛretɔ ne sukyerɛmma mu nneɛma a wɔkɔtɔn wɔ amannɔne kɔbere biriw coal sika kɔkɔɔ ne nnwan nwi ɛno akyi no bere a onipa foforo biara nhu no no ohwie aduhuam gu nnyansramma no so na ɛma wusiw huamhuam yɛ kronkron mu kronkronbea hɔ maleviticus 1612 13 ɔde gyabiriw ngo ne nneɛma foforo a wobetumi anya ahoɔden afi mu bebree asie asase adekorabea no mu sɛ mitia gyasrama so a na mente sɛ ɛhye me aman pii kɔkaa wɔn ho na eyi na ɛmaa wɔtee kuw a ɛne european coal and steel community ecsc no ná paapa yɛ mmɔdenbɔfo a otu biriw so obi bɛfa nsramma so na ne nan renhyew 5 6 a nnyansramma a yɛboaboa ano gu yɛn tamfo atifi no kyerɛ dɛn wɔwoo me wɔ afe 1926 mu wɔ vermelles a ɛyɛ akuraa bi a wotu biriw wɔ hɔ ase so obi bɛfa nsramma so na ne nan renhyew bere a obiara ani nna ne ho so no nsu galɔn ɔpepem pii kɔtaee baabi a wotu biriw a ɛbɛn pittsburgh pennsylvania usa',\n",
       "       ...,\n",
       "       'ɛyɛ yehowa ne ne bɔhyɛ ahorow mu gyidi a ɛyɛ den a wɔwɔ no ntiromafo 1010 13 14  mesia no amanehunu no bae bere a wɔwɔɔ no ade dwerɛw no na wopiraa no nonsɛm a emu yɛ den a ɛkyerɛ owu yayaw b dɛn na awofo no yɛe a ɛmaa wɔn gyidi kɔɔ so yɛɛ den mfe aduosia akyi wɔ september 18 1999 mu no brandenburg memorial foundation kaee dickmann wu no na seesei nkaedum no ma nsrahwɛfo kae nakokoduru ne ne gyidi a na ɛyɛ den no adɛn nti na yehowa kaa saa awofo a wɔma wɔn mma hu sɛ ɛsɛ sɛ wɔhyɛ wɔn ho so na wodi wɔn asɛyɛde ho dwuma no twa so aba pa dɛn nti na ɛyɛ den sɛ obi bɛma ne gyidi akɔ so ayɛ den nnɛ ɔkwan bɛn so na gyidi a emu yɛ den boa yɛn ma yedi nokware nnɛ ɔkyerɛkyerɛ mu sɛ yesusuw sɛ nnipa bebree na awosu mu nneɛma kakraa bi ne nneɛma a atwa wɔn ho ahyia na ɛka bom ma wonya yare no bi ɔsɛnkafo 31 7 sɛnea ɛda adi wɔ akasakasa a yedii kan kaa ho asɛm no mu no ɔhaw no bi betumi de abufuw aba bible ka nsɛm pii fa bobesa ne nsaden ho bere a obiara twaam no yehowa maa yosua ka kyerɛɛ mmarima ahoɔdenfo 12 sɛ monkɔ nsubon no mu baabi a asɔfo no de apam adaka no gyina no bere a onua perla reda asuade a ɛwom adi akyerɛ adesuafo no ɔkae sɛ moanya dwumadi foforo sɛ morebɛyɛ asɛmpatrɛwfo na ɛsɛ sɛ mohyɛ mo ho den na mumia mo ani mose kaa gye a wogyee israel fii misraim nkoasom mu no ho asɛm sɛ esiane sɛ yehowa nw dɔ mo na odi ne ntam a ɔkaa mo agyanom no so nti na yehowa nw de nsa a ɛyɛ den yii mo fii nkoafi fii misraim hene farao nsamdeuteronomium 78 dwom 119105 ma yɛnhwehwɛ nhwɛso ahorow bi a mmabun bi a wɔdɔ onyankopɔn na wɔbɔ mmɔden sɛ wɔbɛkɔ so ayɛ den honhom fam wɔ wiase a wodi anigyede ne honam fam nneɛma akyi wɔ mu no nhwɛ na wiase ade a ɛyɛ mmerɛw na onyankopɔn apaw sɛ ɔde bɛhyɛ nea ɛyɛ den no aniwu na wiase nneɛma a ɛmfra ne nea wommu na onyankopɔn apaw ne nea enni hɔ sɛ ɔde betu nea ɛwɔ hɔ na ɔhonam biara anhoahoa ne ho nanim1 korintofo 12629 gyidi a emu yɛ den a mewɔ wɔ onyankopɔn bɔhyɛ ahorow mu no kaa no yiw nkitahodi ne ade a ɛma aware gyina sɛnkyerɛnne no mu betumi ayɛ nea ɛnyɛ den anaa nea emu yɛ den na ɛnyɛ komayare biara mu na ne nyinaa da adi yehowa ama manya ahoɔden sɛ kristofo bɛkɔ so anya gyidi a emu yɛ den a ɛsɛ sɛ wɔkɔ so dwennwen nokware a ɛsom bo a ɛwɔ onyankopɔn asɛm mu no ho ɛyɛ den ma ebinom sɛ wɔbɛgye atom sɛ adamfofa no remmoa wɔnɛnkanka sɛ ɔdɔ no mu ayɛ den a 17 sɛ wopɛ sɛ wo gyidi yɛ den a bible mfitiase nkyerɛkyerɛ no nko ara a wubehu nnɔɔso ɛwom ɛsɛ sɛ ɔkyerɛkyerɛfo a otu mpɔn no gye nea ɔka no di kolosefo 35 6 nea ɛbɛyɛ na obi akum nakwaa a ɛfa akɔnnɔ nhyɛso ho no ɛsɛ sɛ onya ɔdɔ a emu yɛ den ma yehowa nyankopɔn',\n",
       "       'ɛyɛɛ dɛn na ebenyaa yudasom so nkɛntɛnso saa wɔde biofeedbackayaresa kwan a wɔkyerɛkyerɛ ɔyarefo no ma ɔhwɛ sɛnea ɔte nka wɔ nipadua mu na ogyina so yɛ biribi de tew ɔhaw a ɛyaw de ba no sonso dii dwuma wɔde onyankopɔn nkurɔfo agyina mfinimfini sɛnea yɛbɛka no no bere a yehowa kyerɛkyerɛ anisoadehu no ne sɛnea ɛka wɔn asetra no mu kyerɛ wɔn no nanso so yebetumi anya ahotoso sɛ ɛbɛba na nkɛntɛnso bɛn na saa anidaso no betumi anya wɔ yɛn so mprempren atade a wohyɛ nso ka sɛnea afoforo bu wo na wɔne wo di no kɛse jerry mander a bere bi na ɔyɛ dawurubɔ adwuma bi mu panyin no kyerɛw nkɛntɛnso a television nya wɔ yɛn asetra so no ho asɛm sɛ television de nneɛma ho mfonini dua yɛn adwene mu sen biribi foforo biara tumi a enya wɔ wo so nso ɛ sɛnea mfatoho yi kyerɛ no na dawid nim sɛ ɛnyɛ namanehunu nkutoo na na yehowa nim na mmom na onim sɛnea na ɔte nka nso nanso enya nkurɔfo so nkɛntɛnso kɛse sen saa mpo nnɛ efisɛ sɛnea nsɛm a asisi wɔ afeha 20 yi mu kyerɛ no yoel nkɔmhyɛ no anya mmamu a ɛto so abien ɛka wiase tumidi anaa aban bi a ebedidi so aba ho asɛm ná saa aban ahorow yi benya wiase so tumi de abesi yɛn bere yi so nokwasɛm a ɛyɛ awerɛhow ne the new encyclopædia britannica mu nsɛm no ɛte sɛ nea nsɛmmɔnedi a ɛrenya nkɔanim no yɛ ade a ɛkɔ so wɔ nnɛyi aman a wɔanya nkɔanim wɔ mfiridwuma nyinaa mu na mmara ahorow a wɔayɛ anaa asotwe a wɔde ma biara nni hɔ a yebetumi aka sɛ atumi adi ɔhaw no ho dwuma titiriw bi    biribiara nni hɔ a nnipa ayɛ po no a asɛe no kɛse sen asau a wogu wom yi anammɔn titiriw a wɔbɛhyɛ da atu atia nsɛmmɔnedi pɔtee bi te sɛ nnubɔne a wɔde fa sum ase kɔtɔn anaa atuo a wɔde bɔ korɔn tumi yɛ yiye kosi baabi na ɛha nso mfaso no ntra hɔ nkyɛ cameron a ɔyɛ daa kwampaefo a wadi mfe 20 no ani sɔ nhwɛso pa a kara a ɔno nso yɛ daa kwampaefo no yɛe ma ɛboaa no no paa nnipa dodow no ara bu adwuma a wɔbɛyɛ sɛ ɛyɛ wɔn ankasa asɛm na ɛmfa afoforo ho ahe biara anaasɛ ɛmfa wɔn ho koraa mfe mpempem pii a atwam ni no na nnipa nhaw atorɔm wɔ wɔn atutradi mu sɛ nkurɔfo de saa afotusɛm no yɛ adwuma a anka wohwɛ a ɔhaw akɛse a nnipa rehyia no ɛso rentew anaa tumi a video ahorow a edi adanse no wɔ yentumi nhu ade pɔtee a afifide foforo ne geo de bɛba abɔde a atwa yɛn ho ahyia no so dɛn na yebetumi ayɛ de atew nnipakum a ɛde ba no so anaasɛ wɔama agyae bible ma emu da hɔ pefee sɛ ɔwofo nneyɛe betumi anya abofra so nkɛntɛnso pa anaa nkɛntɛnso bɔne ná yesu ahosakra no yɛ biribi a ɛbɛba bɛn ho mfonini na tumi bɛn na saa anisoadehu no nyae wɔ petro so efi wiase ko ii mu titiriw reba no dengue anya adesamma akwahosan so nkɛntɛnso kɛse na efii ase wɔ asia kesee fam apuei ɛnyɛ wim a na ayɛ bruu na adwo fɔmm no nkutoo na ɛmaa nnansa yi yɛɛ anigye na mmom honhom fam nimdeɛ a edi mu a wonyae wɔ ɔsoro nkyerɛkyerɛ mu nso wo nso wubetumi de wadwene aniwa ahu yesu a wɔanyan no afi awufo mu no denam nkɛntɛnso a ɔrenya nnɛ a wubehu no so',\n",
       "       '兄弟象隊 bere a nnipa redɔɔso no akyinnye biara nni ho sɛ asono no so tew otwi nhoma asonse ɔsebɔ dompe bɛnkoro mmɛn ne asudanna ka nneɛma a wɔabara no seesei no ho ankyɛ koraa na yefii baabi a asono no wɔ no saa bere yi nneɛma abien na na ɛma wokunkum asono wɔ afrika ɔkwan a asono fa so ka nsɛm a ehia wɔn kyerɛ wɔn ho wɔn ho no da so ara yɛ animdefo a wɔn ho akokwaw wɔ mmoa nneyɛe ho no nwonwa adanse a ɛwɔ hɔ kyerɛ sɛ na tete ntorobɛnto te sɛ ɔsono mfare hiob 267 sɛ anka bible no bɛfoa nkyerɛkyerɛ a egyina adwenhunu so a na abu so saa bere no so te sɛ nea ɛka sɛ asase no da asono so no ɛkaa nea wɔagye atom sɛ nyansahu mu nokwasɛm fi saa bere nosɛ asase sɛn ahunmu ná ɛsɛ sɛ misi fam kilomita biara de sofi kotutu ɔkwan no so apɔwapɔw sisi ntokuru na mitwitwa sare atenten ne nnua nso gugu atɛkyɛ mu na ama ntwahonan no atumi afa so sɛnea nhoma pygméespeuple de la forêt kyerɛkyerɛ mu no ebi ne nnomaa nkwaku asono ɛkoɔ akisi atwe kɔkɔte apurow ne afoforo pii mmoa a wubetumi ahu wɔ uganda asasetaw so no bi ne asono ɛkoɔ ne agyata mprempren wɔde ɔsono bin a wɔayɛ no krataa reyɛ krataa a wɔde bɛto nsa afrɛ nkurɔfo ama wɔaba kenya adwuma a ɛhwɛ nwuram mmoa so mfe 50 afahyɛ no ase afe yi ase yɛ kwaebirentuw a asono ne asase hwene so ɛkoɔ kyinkyin mu 3 bere a yesu hyɛn kurow no mu no nkurɔfo anhu teaseɛnam mmirikatufo ne apɔnkɔ ne asono biara nso saa adwumfo yi a wɔne afrika asono no mu biara mu duru yɛ tɔn asia afrika kesee fam aman no ani gye sɛ wɔatumi akora asono a wɔn ho yɛ den no dodow so mmoa atrae hɔ mpanyimfo yɛe sɛ wɔbɛtɔn asono a wɔaboro so no na wɔkyerɛe sɛ atɔe fam akuw a wɔsɔre tia mmoa a wɔaboro so a wokum wɔn no mfa wɔn sika mmɛboa mma wonyi mmoa no nkɔ baabi foforo woanso mu yiyeenti asono anum a wɔde dɔte ayɛ a wɔahyehyɛ ma edidi so no nea ɛto so abiɛsa no fii pon no so hwee fam ɛwom sɛ ka a yɛbɛka sɛ mpataa renantew na wɔrehuruhuruw no te sɛ nea yɛbɛka sɛ asono nso retu ara de nanso saa pɛpɛɛpɛ na mihui nanso ɔsono betumi de ne mfare afofa wo ho anaa wagye aduan afi wo nsam bɔkɔɔ nso po mu sunf akɛse ne bonsu foforo bi nso tumi dɔ asukɔ kɔ akyiri paa elephantsgentle giants of africa and asia nhoma no kyerɛkyerɛ mu sɛ ɔkwan a asono kuw taa fa so bɔ wɔn ho ban ne sɛ asono akɛse no keka wɔn ho bom twa kanko de wɔn ani kyerɛ faako a gyata no rebobom no na wɔma asono nketewa no hyɛ wɔn mfinimfini de bɔ wɔn ho ban bonsu bi mu duru bɛyɛ tɔn 120te sɛ asono 30 mu duru ɛnyɛ nwonwa sɛ bere a afipamfo huu mike bugara sɛ ɔrenoa ɔsono bin pii wɔ nabobow ano no ɛhaw wɔn yiye ɔsono betumi de ne mfare akyekyere wo atow wo akɔ wim te sɛ ɔbo nkwa a onyankopɔn ahyɛ bɔ sɛ ɔde bɛma yɛn daakye no ye sen nea yɛwom yi a emu yɛ den na ɛyɛ yaw a yɛpere ansa na yɛanya nea yebedi kɛkɛ a ɛte sɛ asetra a shackleton mmarima no kɔɔ mu wɔ elephant island so no koraa'],\n",
       "      dtype=object)"
      ]
     },
     "execution_count": 11,
     "metadata": {},
     "output_type": "execute_result"
    }
   ],
   "source": [
    "np.unique(e2t['some_twi_phrases'])"
   ]
  },
  {
   "cell_type": "code",
   "execution_count": 13,
   "metadata": {},
   "outputs": [],
   "source": [
    "# setting the metrics of maxfeatures and maxlen\n",
    "max_features=5000 \n",
    "maxlen=100"
   ]
  },
  {
   "cell_type": "code",
   "execution_count": 14,
   "metadata": {},
   "outputs": [],
   "source": [
    "# tokenizing\n",
    "tok = tf.keras.preprocessing.text.Tokenizer(num_words=max_features) #again tokenizer step"
   ]
  },
  {
   "cell_type": "code",
   "execution_count": 15,
   "metadata": {},
   "outputs": [],
   "source": [
    "tokenize twi text\n",
    "tok.fit_on_texts(list(e2t['some_twi_phrases'])) #fit to cleaned text\n",
    "t = tok.texts_to_sequences(list(e2t['some_twi_phrases'])) #this is how we create sequences\n",
    "t = tf.keras.preprocessing.sequence.pad_sequences(e, maxlen=maxlen) #let's execute pad step"
   ]
  },
  {
   "cell_type": "code",
   "execution_count": 17,
   "metadata": {},
   "outputs": [],
   "source": [
    "# tokenize english text\n",
    "tok.fit_on_texts(list(e2t['some_english_phrases'])) #fit to cleaned text\n",
    "e = tok.texts_to_sequences(list(e2t['some_english_phrases'])) #this is how we create sequences\n",
    "e = tf.keras.preprocessing.sequence.pad_sequences(t, maxlen=maxlen) #let's execute pad step\n",
    "    \n"
   ]
  },
  {
   "cell_type": "code",
   "execution_count": 16,
   "metadata": {},
   "outputs": [],
   "source": [
    "Y = e\n",
    "# Y = e2t['some_twi_phrases']\n",
    "encoder = LabelEncoder()\n",
    "encoder.fit(Y)\n",
    "Y = encoder.transform(Y)\n",
    "Y = tf.keras.utils.to_categorical(\n",
    "    Y,\n",
    "    num_classes=classes\n",
    "    \n",
    ")"
   ]
  },
  {
   "cell_type": "code",
   "execution_count": 18,
   "metadata": {},
   "outputs": [],
   "source": [
    "from sklearn.model_selection import train_test_split #divide into train and test set\n",
    "X_train, X_test, y_train, y_test = train_test_split(e,Y ,test_size=0.1, random_state=42)\n"
   ]
  },
  {
   "cell_type": "code",
   "execution_count": 70,
   "metadata": {},
   "outputs": [
    {
     "data": {
      "text/plain": [
       "(4271, 100)"
      ]
     },
     "execution_count": 70,
     "metadata": {},
     "output_type": "execute_result"
    }
   ],
   "source": [
    "t.shape"
   ]
  },
  {
   "cell_type": "code",
   "execution_count": 71,
   "metadata": {},
   "outputs": [
    {
     "data": {
      "text/plain": [
       "(4271, 3668)"
      ]
     },
     "execution_count": 71,
     "metadata": {},
     "output_type": "execute_result"
    }
   ],
   "source": [
    "Y.shape"
   ]
  },
  {
   "cell_type": "code",
   "execution_count": 72,
   "metadata": {},
   "outputs": [],
   "source": [
    "vocab_size = len(tok.word_index)+1\n",
    "embedding_dim = 100#this is the final dimension of the embedding space.\n"
   ]
  },
  {
   "cell_type": "code",
   "execution_count": 73,
   "metadata": {},
   "outputs": [],
   "source": [
    "# define the model\n",
    "model = tf.keras.models.Sequential([\n",
    "  tf.keras.layers.Embedding(input_dim=vocab_size, #embedding input\n",
    "                           output_dim=embedding_dim,#embedding output\n",
    "                           input_length=maxlen), #maximum length of an input sequence\n",
    "  tf.keras.layers.Flatten(), #flatten layer\n",
    "\n",
    "  tf.keras.layers.Dense(classes, activation=tf.nn.softmax) #ouput layer a Dense layer with 4 probabilities\n",
    "  #we also define our final activation function which is the softmax function typical for multiclass\n",
    "  #classifiction problems\n",
    "\n",
    "])"
   ]
  },
  {
   "cell_type": "code",
   "execution_count": 74,
   "metadata": {},
   "outputs": [],
   "source": [
    "# compile the model\n",
    "model.compile(optimizer='adam',\n",
    "              loss='categorical_crossentropy', #we recommend this loss function you\n",
    "              metrics=['accuracy'])\n",
    "\n"
   ]
  },
  {
   "cell_type": "code",
   "execution_count": 75,
   "metadata": {},
   "outputs": [
    {
     "name": "stdout",
     "output_type": "stream",
     "text": [
      "_________________________________________________________________\n",
      "Layer (type)                 Output Shape              Param #   \n",
      "=================================================================\n",
      "embedding_1 (Embedding)      (None, 100, 100)          6147400   \n",
      "_________________________________________________________________\n",
      "flatten_1 (Flatten)          (None, 10000)             0         \n",
      "_________________________________________________________________\n",
      "dense_1 (Dense)              (None, 3668)              36683668  \n",
      "=================================================================\n",
      "Total params: 42,831,068\n",
      "Trainable params: 42,831,068\n",
      "Non-trainable params: 0\n",
      "_________________________________________________________________\n"
     ]
    }
   ],
   "source": [
    "model.summary()"
   ]
  },
  {
   "cell_type": "code",
   "execution_count": 26,
   "metadata": {},
   "outputs": [
    {
     "name": "stderr",
     "output_type": "stream",
     "text": [
      "C:\\Users\\kapp\\AppData\\Roaming\\Python\\Python37\\site-packages\\tensorflow\\python\\ops\\gradients_impl.py:112: UserWarning: Converting sparse IndexedSlices to a dense Tensor of unknown shape. This may consume a large amount of memory.\n",
      "  \"Converting sparse IndexedSlices to a dense Tensor of unknown shape. \"\n"
     ]
    },
    {
     "name": "stdout",
     "output_type": "stream",
     "text": [
      "Epoch 1/1\n",
      "4271/4271 [==============================] - 341s 80ms/step - loss: 7.8737 - acc: 0.1384\n"
     ]
    },
    {
     "data": {
      "text/plain": [
       "<tensorflow.python.keras.callbacks.History at 0x1b4176ea940>"
      ]
     },
     "execution_count": 26,
     "metadata": {},
     "output_type": "execute_result"
    }
   ],
   "source": [
    "# fitting the model,alter the number of epochs\n",
    "model.fit(np.array(t), np.array(Y), epochs=1) "
   ]
  },
  {
   "cell_type": "code",
   "execution_count": 27,
   "metadata": {},
   "outputs": [],
   "source": [
    "# saving the embedding layer\n",
    "data = np.array(model.layers[0].get_weights())\n",
    "data = data.reshape(data.shape[0]*data.shape[1], data.shape[2])\n",
    "data = pd.DataFrame(data)"
   ]
  },
  {
   "cell_type": "code",
   "execution_count": 28,
   "metadata": {},
   "outputs": [],
   "source": [
    "len(data)\n",
    "data[1:].to_csv(\"e2t1data.csv\", sep='\\t', index=False, header=False)"
   ]
  },
  {
   "cell_type": "code",
   "execution_count": 29,
   "metadata": {},
   "outputs": [
    {
     "name": "stdout",
     "output_type": "stream",
     "text": [
      "61473\n",
      "61473\n"
     ]
    }
   ],
   "source": [
    "meta_data = pd.DataFrame.from_dict(list(tok.word_index))\n",
    "print(len(meta_data))\n",
    "print(len(tok.word_index))"
   ]
  },
  {
   "cell_type": "code",
   "execution_count": 30,
   "metadata": {},
   "outputs": [],
   "source": [
    "# saving the metadata\n",
    "meta_data.columns = ['word']\n",
    "meta_data['word'].to_csv(\"meta_data_e2t1.csv\", index=False, header=False)"
   ]
  },
  {
   "cell_type": "code",
   "execution_count": 31,
   "metadata": {},
   "outputs": [
    {
     "name": "stdout",
     "output_type": "stream",
     "text": [
      "61472\n"
     ]
    }
   ],
   "source": [
    "meta_data = pd.read_csv(\"meta_data_e2t1.csv\")\n",
    "print(len(meta_data))"
   ]
  }
 ],
 "metadata": {
  "kernelspec": {
   "display_name": "Python 3",
   "language": "python",
   "name": "python3"
  },
  "language_info": {
   "codemirror_mode": {
    "name": "ipython",
    "version": 3
   },
   "file_extension": ".py",
   "mimetype": "text/x-python",
   "name": "python",
   "nbconvert_exporter": "python",
   "pygments_lexer": "ipython3",
   "version": "3.7.3"
  }
 },
 "nbformat": 4,
 "nbformat_minor": 2
}
